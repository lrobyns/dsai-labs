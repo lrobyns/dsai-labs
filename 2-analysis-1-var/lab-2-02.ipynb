{
 "cells": [
  {
   "attachments": {},
   "cell_type": "markdown",
   "metadata": {},
   "source": [
    "# Lab 2.02 - Android Persistence\n",
    "\n",
    "Import all necessary Python libraries and load the Android Persistence dataset from lab exercise 1.02.  Do not forget the conversion to categorical variables. Define an order in case of an ordinal variable."
   ]
  },
  {
   "cell_type": "code",
   "execution_count": 13,
   "metadata": {},
   "outputs": [
    {
     "name": "stdout",
     "output_type": "stream",
     "text": [
      "<class 'pandas.core.frame.DataFrame'>\n",
      "RangeIndex: 300 entries, 0 to 299\n",
      "Data columns (total 3 columns):\n",
      " #   Column           Non-Null Count  Dtype   \n",
      "---  ------           --------------  -----   \n",
      " 0   Time             300 non-null    float64 \n",
      " 1   PersistenceType  300 non-null    category\n",
      " 2   DataSize         300 non-null    category\n",
      "dtypes: category(2), float64(1)\n",
      "memory usage: 3.4 KB\n"
     ]
    },
    {
     "data": {
      "text/html": [
       "<div>\n",
       "<style scoped>\n",
       "    .dataframe tbody tr th:only-of-type {\n",
       "        vertical-align: middle;\n",
       "    }\n",
       "\n",
       "    .dataframe tbody tr th {\n",
       "        vertical-align: top;\n",
       "    }\n",
       "\n",
       "    .dataframe thead th {\n",
       "        text-align: right;\n",
       "    }\n",
       "</style>\n",
       "<table border=\"1\" class=\"dataframe\">\n",
       "  <thead>\n",
       "    <tr style=\"text-align: right;\">\n",
       "      <th></th>\n",
       "      <th>Time</th>\n",
       "      <th>PersistenceType</th>\n",
       "      <th>DataSize</th>\n",
       "    </tr>\n",
       "  </thead>\n",
       "  <tbody>\n",
       "    <tr>\n",
       "      <th>0</th>\n",
       "      <td>1.81</td>\n",
       "      <td>Sharedpreferences</td>\n",
       "      <td>Small</td>\n",
       "    </tr>\n",
       "    <tr>\n",
       "      <th>1</th>\n",
       "      <td>1.35</td>\n",
       "      <td>Sharedpreferences</td>\n",
       "      <td>Small</td>\n",
       "    </tr>\n",
       "    <tr>\n",
       "      <th>2</th>\n",
       "      <td>1.84</td>\n",
       "      <td>Sharedpreferences</td>\n",
       "      <td>Small</td>\n",
       "    </tr>\n",
       "    <tr>\n",
       "      <th>3</th>\n",
       "      <td>1.54</td>\n",
       "      <td>Sharedpreferences</td>\n",
       "      <td>Small</td>\n",
       "    </tr>\n",
       "    <tr>\n",
       "      <th>4</th>\n",
       "      <td>1.81</td>\n",
       "      <td>Sharedpreferences</td>\n",
       "      <td>Small</td>\n",
       "    </tr>\n",
       "  </tbody>\n",
       "</table>\n",
       "</div>"
      ],
      "text/plain": [
       "   Time    PersistenceType DataSize\n",
       "0  1.81  Sharedpreferences    Small\n",
       "1  1.35  Sharedpreferences    Small\n",
       "2  1.84  Sharedpreferences    Small\n",
       "3  1.54  Sharedpreferences    Small\n",
       "4  1.81  Sharedpreferences    Small"
      ]
     },
     "execution_count": 13,
     "metadata": {},
     "output_type": "execute_result"
    }
   ],
   "source": [
    "# Importing the necessary packages\n",
    "import numpy as np                                  # \"Scientific computing\"\n",
    "import scipy.stats as stats                         # Statistical tests\n",
    "\n",
    "import pandas as pd                                 # Data Frame\n",
    "from pandas.api.types import CategoricalDtype\n",
    "\n",
    "import matplotlib.pyplot as plt                     # Basic visualisation\n",
    "from statsmodels.graphics.mosaicplot import mosaic  # Mosaic diagram\n",
    "import seaborn as sns                               # Advanced data visualisation\n",
    "URL = \"../data/android_persistence_cpu.csv\"\n",
    "apc = pd.read_csv(URL, delimiter=\";\")\n",
    "apc.PersistenceType = apc.PersistenceType.astype(\"category\")\n",
    "#Custom CategoryType\n",
    "datasize_type = CategoricalDtype(categories=[\"Large\", \"Medium\", \"Small\"], ordered=True)\n",
    "apc.DataSize = apc.DataSize.astype(datasize_type)\n",
    "apc.info()\n",
    "apc.head()"
   ]
  },
  {
   "attachments": {},
   "cell_type": "markdown",
   "metadata": {},
   "source": [
    "Visualise the variables `DataSize` and `PersistenceType` separately using a suitable chart type."
   ]
  },
  {
   "cell_type": "code",
   "execution_count": 18,
   "metadata": {},
   "outputs": [
    {
     "data": {
      "text/plain": [
       "<seaborn.axisgrid.FacetGrid at 0x7f2337ec4d90>"
      ]
     },
     "execution_count": 18,
     "metadata": {},
     "output_type": "execute_result"
    }
   ],
   "source": [
    "#sns.catplot(data=apc, kind=\"count\", y=\"DataSize\")\n",
    "sns.displot(data=apc, x=\"Time\", hue=\"DataSize\")"
   ]
  },
  {
   "attachments": {},
   "cell_type": "markdown",
   "metadata": {},
   "source": [
    "How often does each combination of `DataSize` and `PersistenceType` occur? Show the frequencies of `PersistenceType` (parameter `hue`), grouped according to `DataSize` (parameter `x`). Try it the other way round too!"
   ]
  },
  {
   "cell_type": "code",
   "execution_count": null,
   "metadata": {},
   "outputs": [],
   "source": []
  },
  {
   "attachments": {},
   "cell_type": "markdown",
   "metadata": {},
   "source": [
    "Visualise the variable `Time` with a boxplot, each time with more detail. Do you notice how you get a better view of the data each time you do this?\n",
    "\n",
    "- First over the entire dataset (parameter `x`)\n",
    "- Then grouped according to `DataSize` (parameter `y`)\n",
    "- Finally, split it according to `PersistenceType` (parameter `hue`)"
   ]
  },
  {
   "cell_type": "code",
   "execution_count": null,
   "metadata": {},
   "outputs": [],
   "source": []
  },
  {
   "attachments": {},
   "cell_type": "markdown",
   "metadata": {},
   "source": [
    "**(Challenge)** Try to do something similar with a density graph: for each value of `DataSize`, show a scatter diagram showing a density graph of the variable `Time` for each value of `PersistenceType` (tip: `sns.FacetGrid()`). The result may look something like this:\n",
    "\n",
    "![Density graphs for each `DataSize`, comparing the performance of different `PersistenceTypes`](img/persistence-density.png)"
   ]
  },
  {
   "cell_type": "code",
   "execution_count": null,
   "metadata": {},
   "outputs": [],
   "source": []
  },
  {
   "attachments": {},
   "cell_type": "markdown",
   "metadata": {},
   "source": [
    "Calculate sample mean and standard deviation of `Time`.\n",
    "\n",
    "- Across the whole dataset\n",
    "- Broken down according to `DataSize`\n",
    "- Broken down according to `PersistenceType`\n",
    "- Broken down according to `DataSize` and `PersistenceType`"
   ]
  },
  {
   "cell_type": "code",
   "execution_count": null,
   "metadata": {},
   "outputs": [],
   "source": []
  },
  {
   "attachments": {},
   "cell_type": "markdown",
   "metadata": {},
   "source": [
    "## Expected results\n",
    "\n",
    "As a check, you can find the expected results here (max. 3 decimal places):\n",
    "\n",
    "| Statistic         | Mean   | Standard deviation |\n",
    "| :---------------- | :----- | :----------------- |\n",
    "| Whole dataset     | 6.231  | 4.230              |\n",
    "| Small             | 1.741  | 0.359              |\n",
    "| Medium            | 7.022  | 1.864              |\n",
    "| Large             | 11.426 | 1.164              |\n",
    "| GreenDAO          | 7.152  | 4.386              |\n",
    "| Realm             | 6.023  | 3.884              |\n",
    "| SQLite            | 7.036  | 4.146              |\n",
    "| SharedPreferences | 1.674  | 0.285              |\n",
    "\n",
    "Split on both criteria:\n",
    "\n",
    "| Sample mean       | Small | Medium | Large  |\n",
    "| :---------------- | :---- | :----- | :----- |\n",
    "| GreenDAO          | 1.894 | 7.454  | 12.110 |\n",
    "| Realm             | 1.599 | 5.818  | 10.652 |\n",
    "| SQLite            | 1.799 | 7.794  | 11.515 |\n",
    "| SharedPreferences | 1.674 | -      | -      |\n",
    "\n",
    "| Standard deviation | Small | Medium | Large |\n",
    "| :----------------- | :---- | :----- | :---- |\n",
    "| GreenDAO           | 0.348 | 2.007  | 0.868 |\n",
    "| Realm              | 0.315 | 1.331  | 1.406 |\n",
    "| SQLite             | 0.416 | 1.599  | 0.559 |\n",
    "| SharedPreferences  | 0.285 | -      | -     |\n"
   ]
  }
 ],
 "metadata": {
  "kernelspec": {
   "display_name": "base",
   "language": "python",
   "name": "python3"
  },
  "language_info": {
   "codemirror_mode": {
    "name": "ipython",
    "version": 3
   },
   "file_extension": ".py",
   "mimetype": "text/x-python",
   "name": "python",
   "nbconvert_exporter": "python",
   "pygments_lexer": "ipython3",
   "version": "3.9.13"
  },
  "orig_nbformat": 4
 },
 "nbformat": 4,
 "nbformat_minor": 2
}
